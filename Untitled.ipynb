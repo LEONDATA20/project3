{
 "cells": [
  {
   "cell_type": "code",
   "execution_count": 23,
   "metadata": {},
   "outputs": [],
   "source": [
    "from splinter import Browser\n",
    "from bs4 import BeautifulSoup as bs\n",
    "import pandas as pd\n",
    "import time\n",
    "import numpy as np"
   ]
  },
  {
   "cell_type": "code",
   "execution_count": 31,
   "metadata": {},
   "outputs": [
    {
     "data": {
      "text/plain": [
       "[<div _ngcontent-airvisual-web-c26=\"\" class=\"name\" fxflex=\"\" style=\"flex: 1 1 0%; box-sizing: border-box;\"><!-- --><!-- --><a _ngcontent-airvisual-web-c26=\"\" class=\"ng-star-inserted\" href=\"/china/shanghai\"> Shanghai, China </a></div>,\n",
       " <div _ngcontent-airvisual-web-c26=\"\" class=\"name\" fxflex=\"\" style=\"flex: 1 1 0%; box-sizing: border-box;\"><!-- --><!-- --><a _ngcontent-airvisual-web-c26=\"\" class=\"ng-star-inserted\" href=\"/vietnam/ho-chi-minh-city\"> Ho Chi Minh City, Vietnam </a></div>,\n",
       " <div _ngcontent-airvisual-web-c26=\"\" class=\"name\" fxflex=\"\" style=\"flex: 1 1 0%; box-sizing: border-box;\"><!-- --><!-- --><a _ngcontent-airvisual-web-c26=\"\" class=\"ng-star-inserted\" href=\"/iran/tehran\"> Tehran, Iran </a></div>,\n",
       " <div _ngcontent-airvisual-web-c26=\"\" class=\"name\" fxflex=\"\" style=\"flex: 1 1 0%; box-sizing: border-box;\"><!-- --><!-- --><a _ngcontent-airvisual-web-c26=\"\" class=\"ng-star-inserted\" href=\"/indonesia/jakarta\"> Jakarta, Indonesia </a></div>,\n",
       " <div _ngcontent-airvisual-web-c26=\"\" class=\"name\" fxflex=\"\" style=\"flex: 1 1 0%; box-sizing: border-box;\"><!-- --><!-- --><a _ngcontent-airvisual-web-c26=\"\" class=\"ng-star-inserted\" href=\"/israel/jerusalem\"> Jerusalem, Israel </a></div>,\n",
       " <div _ngcontent-airvisual-web-c26=\"\" class=\"name\" fxflex=\"\" style=\"flex: 1 1 0%; box-sizing: border-box;\"><!-- --><!-- --><a _ngcontent-airvisual-web-c26=\"\" class=\"ng-star-inserted\" href=\"/pakistan/punjab/lahore\"> Lahore, Pakistan </a></div>,\n",
       " <div _ngcontent-airvisual-web-c26=\"\" class=\"name\" fxflex=\"\" style=\"flex: 1 1 0%; box-sizing: border-box;\"><!-- --><!-- --><a _ngcontent-airvisual-web-c26=\"\" class=\"ng-star-inserted\" href=\"/china/liaoning/shenyang\"> Shenyang, China </a></div>,\n",
       " <div _ngcontent-airvisual-web-c26=\"\" class=\"name\" fxflex=\"\" style=\"flex: 1 1 0%; box-sizing: border-box;\"><!-- --><!-- --><a _ngcontent-airvisual-web-c26=\"\" class=\"ng-star-inserted\" href=\"/bangladesh/dhaka\"> Dhaka, Bangladesh </a></div>,\n",
       " <div _ngcontent-airvisual-web-c26=\"\" class=\"name\" fxflex=\"\" style=\"flex: 1 1 0%; box-sizing: border-box;\"><!-- --><!-- --><a _ngcontent-airvisual-web-c26=\"\" class=\"ng-star-inserted\" href=\"/india/delhi\"> Delhi, India </a></div>,\n",
       " <div _ngcontent-airvisual-web-c26=\"\" class=\"name\" fxflex=\"\" style=\"flex: 1 1 0%; box-sizing: border-box;\"><!-- --><!-- --><a _ngcontent-airvisual-web-c26=\"\" class=\"ng-star-inserted\" href=\"/pakistan/sindh/karachi\"> Karachi, Pakistan </a></div>]"
      ]
     },
     "execution_count": 31,
     "metadata": {},
     "output_type": "execute_result"
    }
   ],
   "source": [
    "url_tables = 'https://www.iqair.com/world-air-quality'\n",
    "test_soup = scrape_url(url_tables)\n",
    "\n",
    "tests = test_soup.find_all('div',class_ = 'name')\n",
    "tests"
   ]
  },
  {
   "cell_type": "code",
   "execution_count": null,
   "metadata": {},
   "outputs": [],
   "source": []
  },
  {
   "cell_type": "code",
   "execution_count": 29,
   "metadata": {},
   "outputs": [],
   "source": [
    "country_url = []\n",
    "for test in tests:\n",
    "    wocao = test.find('a')['href']\n",
    "    print(wocao)\n",
    "    country_url.append(f'https://www.iqair.com{wocao}')"
   ]
  },
  {
   "cell_type": "code",
   "execution_count": 30,
   "metadata": {},
   "outputs": [
    {
     "data": {
      "text/plain": [
       "[]"
      ]
     },
     "execution_count": 30,
     "metadata": {},
     "output_type": "execute_result"
    }
   ],
   "source": [
    "country_url"
   ]
  },
  {
   "cell_type": "code",
   "execution_count": null,
   "metadata": {},
   "outputs": [],
   "source": []
  }
 ],
 "metadata": {
  "kernelspec": {
   "display_name": "Python 3.6.10 64-bit",
   "language": "python",
   "name": "python361064bitd3563137116e437588e12e79a042d81a"
  },
  "language_info": {
   "codemirror_mode": {
    "name": "ipython",
    "version": 3
   },
   "file_extension": ".py",
   "mimetype": "text/x-python",
   "name": "python",
   "nbconvert_exporter": "python",
   "pygments_lexer": "ipython3",
   "version": "3.6.10"
  }
 },
 "nbformat": 4,
 "nbformat_minor": 2
}
